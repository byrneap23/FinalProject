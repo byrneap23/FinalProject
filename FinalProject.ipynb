{
  "nbformat": 4,
  "nbformat_minor": 0,
  "metadata": {
    "colab": {
      "provenance": [],
      "authorship_tag": "ABX9TyNuJpfdw/dyxRvOVOwQJPFZ",
      "include_colab_link": true
    },
    "kernelspec": {
      "name": "python3",
      "display_name": "Python 3"
    },
    "language_info": {
      "name": "python"
    }
  },
  "cells": [
    {
      "cell_type": "markdown",
      "metadata": {
        "id": "view-in-github",
        "colab_type": "text"
      },
      "source": [
        "<a href=\"https://colab.research.google.com/github/byrneap23/FinalProject/blob/main/FinalProject.ipynb\" target=\"_parent\"><img src=\"https://colab.research.google.com/assets/colab-badge.svg\" alt=\"Open In Colab\"/></a>"
      ]
    },
    {
      "cell_type": "code",
      "source": [
        "'''\n",
        "Our coding project is an extension of a simple monte carlo problem that says this:\n",
        "\"The chances of rolling double sixes using 2 standard 6 sided die is a 1/36 chance, or 2.77%. However, if you roll these 2 dice 24 times, the chances of rolling\n",
        "double sixes goes up to 49.1%. A monte carlo simulation can help approximate this and multiple changes can be made to the game including the number of sides\n",
        "on the die and the number of rolls in one trial.\"\n",
        "'''"
      ],
      "metadata": {
        "id": "hiw3W3PKdeqD"
      },
      "execution_count": null,
      "outputs": []
    },
    {
      "cell_type": "code",
      "source": [
        "'''\n",
        "In this dice game, a player will be given a percentage that they must get within 1% of. The first numbers they will input will be the numbers that they\n",
        "want each die to display to be given a 'win' for that trial (easiest choices are doubles of a specific number). There will be 100 total trials run in the simulation.\n",
        "\n",
        "With the 'game code', the user's first attempt will have them input how many sides will be on each die (ex: standard 6 sided die, d20) with a\n",
        "number corresponding to each side starting with 1 (1-6 for a standard die, 1-20 for a d20). After inputting the number of sides on the die, the player will input how many rolls\n",
        "they would like to happen. This is the number of rolls in 1 of the monte carlo trials (i.e. 10 rolls is a total of rolling 2 dice 1000 times).\n",
        "\n",
        "It will then output the probability that this scenario will happen as seen in the example problem above. The probability will be a ratio of the number\n",
        "of trials where the two values were rolled out of the total number of trials (that being 100). Over time, the user will be able to change either the number of sides\n",
        "on the dice or the number of rolls in one trial to get their probability closer to the target (they can technically change both, but we don't recommend that due to the volatility\n",
        "it creates with their probailities).\n",
        "'''"
      ],
      "metadata": {
        "id": "7-MXLHy2aBtD"
      },
      "execution_count": null,
      "outputs": []
    },
    {
      "cell_type": "code",
      "execution_count": null,
      "metadata": {
        "id": "vdGUMjqfYwKz"
      },
      "outputs": [],
      "source": [
        "import random\n",
        "import matplotlib.pyplot as plt"
      ]
    },
    {
      "cell_type": "code",
      "source": [
        "# The user is given the probability to achieve within 3%\n",
        "int_target = random.randint(1, 100)\n",
        "print(f\"Your target percentage to get within 3% of is {int_target}%.\")\n",
        "target = int_target\n",
        "\n",
        "# User sets fixed target dice values (cannot change later)\n",
        "d1_value = int(input(\"Enter what die number you want on the first die (this can't be changed after entered): \"))\n",
        "d2_value = int(input(\"Enter what die number you want on the second die (this can't be changed after entered): \"))\n",
        "\n",
        "# Fixed number of Monte Carlo trials\n",
        "numTrials = 100"
      ],
      "metadata": {
        "colab": {
          "base_uri": "https://localhost:8080/"
        },
        "id": "6MWWqst8Yzhj",
        "outputId": "327e6b63-abe7-4b14-d863-c98e15139a39"
      },
      "execution_count": 3,
      "outputs": [
        {
          "name": "stdout",
          "output_type": "stream",
          "text": [
            "Your target percentage to get within 1% of is 62%.\n",
            "Enter what die number you want on the first die (this can't be changed after entered): 6\n",
            "Enter what die number you want on the second die (this can't be changed after entered): 6\n"
          ]
        }
      ]
    },
    {
      "cell_type": "code",
      "source": [
        "# Die rolling function\n",
        "def rollDie(sides):\n",
        "    return random.randint(1, sides)\n",
        "\n",
        "# Simulation function: also returns trial-wise success list\n",
        "def MonteProb(rolls, d1_value, d2_value, sides):\n",
        "    numwins = 0.0\n",
        "    wins_per_trial = []\n",
        "\n",
        "    for i in range(numTrials):\n",
        "        success = False\n",
        "        for j in range(rolls):\n",
        "            d1 = rollDie(sides)\n",
        "            d2 = rollDie(sides)\n",
        "            if d1 == d1_value and d2 == d2_value:\n",
        "                numwins += 1\n",
        "                success = True\n",
        "                break\n",
        "        wins_per_trial.append(1 if success else 0)\n",
        "\n",
        "    prob = (numwins / numTrials) * 100\n",
        "    return prob, wins_per_trial\n",
        "\n",
        "# Function to calculate actual theoretical probability\n",
        "def actual_probability(rolls, sides):\n",
        "    p_match = (1 / sides) * (1 / sides)  # chance for one roll\n",
        "    actual = 1 - (1 - p_match) ** rolls  # chance of at least one match\n",
        "    return actual * 100\n",
        "# Track attempt number, simulated and actual probabilities\n",
        "attempt = 1\n",
        "simulated_history = []\n",
        "actual_history = []\n",
        "\n",
        "# Loop until success\n",
        "while True:\n",
        "    print(f\"\\nAttempt #{attempt}\")\n",
        "    sides = int(input(\"Please enter the number of sides you would like on the die: \"))\n",
        "    rolls = int(input(\"Now, enter the total number of rolls you want to happen: \"))\n",
        "\n",
        "    prob, last_wins_per_trial = MonteProb(rolls, d1_value, d2_value, sides)\n",
        "    actual_prob = actual_probability(rolls, sides)\n",
        "\n",
        "    simulated_history.append(prob)\n",
        "    actual_history.append(actual_prob)\n",
        "\n",
        "    print(f\"Simulated Probability: {prob:.2f}%\")\n",
        "    print(f\"Theoretical Probability: {actual_prob:.2f}%\")\n",
        "\n",
        "    if abs(prob - target) <= 3:\n",
        "        print(f\"Congrats! Your probability of {prob:.2f}% is within 3% of the target ({target}%)!\")\n",
        "        break\n",
        "    else:\n",
        "        print(f\"Sorry, your probability of {prob:.2f}% is not within 3% of the target ({target}%).\")\n",
        "        print(\"Trying again...\")\n",
        "        attempt += 1\n",
        "\n",
        "# Line Graph: Simulated vs Actual Probability\n",
        "plt.figure(figsize=(10, 6))\n",
        "plt.plot(range(1, attempt + 1), simulated_history, marker='o', label=\"Simulated Probability\")\n",
        "plt.plot(range(1, attempt + 1), actual_history, marker='x', linestyle='--', label=\"Theoretical Probability\")\n",
        "plt.title(\"Simulated vs Theoretical Probability Over Attempts\")\n",
        "plt.xlabel(\"Attempt Number\")\n",
        "plt.ylabel(\"Probability (%)\")\n",
        "plt.legend()\n",
        "plt.grid(True)\n",
        "plt.tight_layout()\n",
        "plt.show()"
      ],
      "metadata": {
        "colab": {
          "base_uri": "https://localhost:8080/"
        },
        "id": "mt8PlRDSYzrI",
        "outputId": "7bb062fa-a64e-44de-80cf-1cff6e1b5de2"
      },
      "execution_count": null,
      "outputs": [
        {
          "output_type": "stream",
          "name": "stdout",
          "text": [
            "\n",
            "Attempt #1\n"
          ]
        }
      ]
    },
    {
      "cell_type": "code",
      "source": [
        "# Line Graph: Simulated vs Actual Probability\n",
        "plt.figure(figsize=(10, 6))\n",
        "plt.plot(range(1, attempt + 1), simulated_history, marker='o', label=\"Simulated Probability\")\n",
        "plt.plot(range(1, attempt + 1), actual_history, marker='x', linestyle='--', label=\"Theoretical Probability\")\n",
        "plt.title(\"Simulated vs Theoretical Probability Over Attempts\")\n",
        "plt.xlabel(\"Attempt Number\")\n",
        "plt.ylabel(\"Probability (%)\")\n",
        "plt.legend()\n",
        "plt.grid(True)\n",
        "plt.tight_layout()\n",
        "plt.show()"
      ],
      "metadata": {
        "colab": {
          "base_uri": "https://localhost:8080/",
          "height": 237
        },
        "id": "pEL3T-BeaBRK",
        "outputId": "4a5e760f-3d36-45db-a5aa-13a9a8495d54"
      },
      "execution_count": 6,
      "outputs": [
        {
          "output_type": "error",
          "ename": "NameError",
          "evalue": "name 'simulated_history' is not defined",
          "traceback": [
            "\u001b[0;31m---------------------------------------------------------------------------\u001b[0m",
            "\u001b[0;31mNameError\u001b[0m                                 Traceback (most recent call last)",
            "\u001b[0;32m<ipython-input-6-f2d1f0ad74f5>\u001b[0m in \u001b[0;36m<cell line: 0>\u001b[0;34m()\u001b[0m\n\u001b[1;32m      1\u001b[0m \u001b[0;31m# Line Graph: Simulated vs Actual Probability\u001b[0m\u001b[0;34m\u001b[0m\u001b[0;34m\u001b[0m\u001b[0m\n\u001b[1;32m      2\u001b[0m \u001b[0mplt\u001b[0m\u001b[0;34m.\u001b[0m\u001b[0mfigure\u001b[0m\u001b[0;34m(\u001b[0m\u001b[0mfigsize\u001b[0m\u001b[0;34m=\u001b[0m\u001b[0;34m(\u001b[0m\u001b[0;36m10\u001b[0m\u001b[0;34m,\u001b[0m \u001b[0;36m6\u001b[0m\u001b[0;34m)\u001b[0m\u001b[0;34m)\u001b[0m\u001b[0;34m\u001b[0m\u001b[0;34m\u001b[0m\u001b[0m\n\u001b[0;32m----> 3\u001b[0;31m \u001b[0mplt\u001b[0m\u001b[0;34m.\u001b[0m\u001b[0mplot\u001b[0m\u001b[0;34m(\u001b[0m\u001b[0mrange\u001b[0m\u001b[0;34m(\u001b[0m\u001b[0;36m1\u001b[0m\u001b[0;34m,\u001b[0m \u001b[0mattempt\u001b[0m \u001b[0;34m+\u001b[0m \u001b[0;36m1\u001b[0m\u001b[0;34m)\u001b[0m\u001b[0;34m,\u001b[0m \u001b[0msimulated_history\u001b[0m\u001b[0;34m,\u001b[0m \u001b[0mmarker\u001b[0m\u001b[0;34m=\u001b[0m\u001b[0;34m'o'\u001b[0m\u001b[0;34m,\u001b[0m \u001b[0mlabel\u001b[0m\u001b[0;34m=\u001b[0m\u001b[0;34m\"Simulated Probability\"\u001b[0m\u001b[0;34m)\u001b[0m\u001b[0;34m\u001b[0m\u001b[0;34m\u001b[0m\u001b[0m\n\u001b[0m\u001b[1;32m      4\u001b[0m \u001b[0mplt\u001b[0m\u001b[0;34m.\u001b[0m\u001b[0mplot\u001b[0m\u001b[0;34m(\u001b[0m\u001b[0mrange\u001b[0m\u001b[0;34m(\u001b[0m\u001b[0;36m1\u001b[0m\u001b[0;34m,\u001b[0m \u001b[0mattempt\u001b[0m \u001b[0;34m+\u001b[0m \u001b[0;36m1\u001b[0m\u001b[0;34m)\u001b[0m\u001b[0;34m,\u001b[0m \u001b[0mactual_history\u001b[0m\u001b[0;34m,\u001b[0m \u001b[0mmarker\u001b[0m\u001b[0;34m=\u001b[0m\u001b[0;34m'x'\u001b[0m\u001b[0;34m,\u001b[0m \u001b[0mlinestyle\u001b[0m\u001b[0;34m=\u001b[0m\u001b[0;34m'--'\u001b[0m\u001b[0;34m,\u001b[0m \u001b[0mlabel\u001b[0m\u001b[0;34m=\u001b[0m\u001b[0;34m\"Theoretical Probability\"\u001b[0m\u001b[0;34m)\u001b[0m\u001b[0;34m\u001b[0m\u001b[0;34m\u001b[0m\u001b[0m\n\u001b[1;32m      5\u001b[0m \u001b[0mplt\u001b[0m\u001b[0;34m.\u001b[0m\u001b[0mtitle\u001b[0m\u001b[0;34m(\u001b[0m\u001b[0;34m\"Simulated vs Theoretical Probability Over Attempts\"\u001b[0m\u001b[0;34m)\u001b[0m\u001b[0;34m\u001b[0m\u001b[0;34m\u001b[0m\u001b[0m\n",
            "\u001b[0;31mNameError\u001b[0m: name 'simulated_history' is not defined"
          ]
        },
        {
          "output_type": "display_data",
          "data": {
            "text/plain": [
              "<Figure size 1000x600 with 0 Axes>"
            ]
          },
          "metadata": {}
        }
      ]
    },
    {
      "cell_type": "code",
      "source": [],
      "metadata": {
        "id": "SqtOmtEWvrO2"
      },
      "execution_count": null,
      "outputs": []
    }
  ]
}